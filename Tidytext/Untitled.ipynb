{
 "cells": [
  {
   "cell_type": "code",
   "execution_count": 78,
   "metadata": {
    "scrolled": false
   },
   "outputs": [
    {
     "name": "stdout",
     "output_type": "stream",
     "text": [
      "source\n",
      "author\n",
      "Joseph Green\n",
      "title\n",
      "Apple iPhones, MacBooks, Xbox games, Bose headphones, and more on sale for Oct. 25 in the UK\n",
      "description\n",
      "This roundup is a who's who of the biggest names in technology. We've tracked down deals on Apple, Samsung, Bose, Microsoft, Google, and even more of the top brands. You can save on a wide range of great devices in this stellar list, with deals on speakers, h…\n",
      "url\n",
      "urlToImage\n",
      "publishedAt\n",
      "content\n",
      "This roundup is a who's who of the biggest names in technology. We've tracked down deals on Apple, Samsung, Bose, Microsoft, Google, and even more of the top brands.\r\n",
      "You can save on a wide range of great devices in this stellar list, with deals on speakers, … [+573 chars]\n",
      "source\n",
      "author\n",
      "Joseph Green\n",
      "title\n",
      "Apple Airpods, Beats headphones, Xbox games, Lovehoney costumes, and more on sale for Oct. 28 in the UK\n",
      "description\n",
      "The new week offers up an opportunity to start afresh, with a positive attitude and a hopeful outlook. It also offers up the chance to save big on loads of top brands, which kind of ties into those positive vibes. We have lined up a selection of great deals o…\n",
      "url\n",
      "urlToImage\n",
      "publishedAt\n",
      "content\n",
      "The new week offers up an opportunity to start afresh, with a positive attitude and a hopeful outlook. It also offers up the chance to save big on loads of top brands, which kind of ties into those positive vibes.\r\n",
      "We have lined up a selection of great deals … [+648 chars]\n",
      "source\n",
      "author\n",
      "Joseph Green\n",
      "title\n",
      "Apple MacBooks, Xbox games, Microsoft laptops, Halloween costumes, and more on sale for Oct. 29 in the UK\n",
      "description\n",
      "Halloween is just a couple of days away, and if you're busily preparing for a party, we have all the deals you need. You can save on decorations, drinks, and costumes, with a bunch of great last-minute savings on offer. Elsewhere in this round up, we have lin…\n",
      "url\n",
      "urlToImage\n",
      "publishedAt\n",
      "content\n",
      "Halloween is just a couple of days away, and if you're busily preparing for a party, we have all the deals you need. You can save on decorations, drinks, and costumes, with a bunch of great last-minute savings on offer.\r\n",
      "Elsewhere in this round up, we have li… [+601 chars]\n",
      "source\n",
      "author\n"
     ]
    },
    {
     "ename": "TypeError",
     "evalue": "argument of type 'NoneType' is not iterable",
     "output_type": "error",
     "traceback": [
      "\u001b[0;31m---------------------------------------------------------------------------\u001b[0m",
      "\u001b[0;31mTypeError\u001b[0m                                 Traceback (most recent call last)",
      "\u001b[0;32m<ipython-input-78-caf82f52b004>\u001b[0m in \u001b[0;36m<module>\u001b[0;34m\u001b[0m\n\u001b[1;32m     40\u001b[0m \u001b[0;31m#print (response.json())\u001b[0m\u001b[0;34m\u001b[0m\u001b[0;34m\u001b[0m\u001b[0;34m\u001b[0m\u001b[0m\n\u001b[1;32m     41\u001b[0m \u001b[0marticles\u001b[0m \u001b[0;34m=\u001b[0m \u001b[0mresponse\u001b[0m\u001b[0;34m.\u001b[0m\u001b[0mjson\u001b[0m\u001b[0;34m(\u001b[0m\u001b[0;34m)\u001b[0m\u001b[0;34m[\u001b[0m\u001b[0;34m\"articles\"\u001b[0m\u001b[0;34m]\u001b[0m\u001b[0;34m\u001b[0m\u001b[0;34m\u001b[0m\u001b[0m\n\u001b[0;32m---> 42\u001b[0;31m \u001b[0mprint\u001b[0m\u001b[0;34m(\u001b[0m \u001b[0msearch\u001b[0m\u001b[0;34m(\u001b[0m\u001b[0marticles\u001b[0m\u001b[0;34m,\u001b[0m \u001b[0;34m' '\u001b[0m\u001b[0;34m)\u001b[0m\u001b[0;34m)\u001b[0m\u001b[0;34m\u001b[0m\u001b[0;34m\u001b[0m\u001b[0m\n\u001b[0m\u001b[1;32m     43\u001b[0m \u001b[0;31m#response.json()\u001b[0m\u001b[0;34m\u001b[0m\u001b[0;34m\u001b[0m\u001b[0;34m\u001b[0m\u001b[0m\n",
      "\u001b[0;32m<ipython-input-78-caf82f52b004>\u001b[0m in \u001b[0;36msearch\u001b[0;34m(values, searchFor)\u001b[0m\n\u001b[1;32m     31\u001b[0m         \u001b[0;32mfor\u001b[0m \u001b[0mj\u001b[0m \u001b[0;32min\u001b[0m \u001b[0mvalues\u001b[0m\u001b[0;34m[\u001b[0m\u001b[0mi\u001b[0m\u001b[0;34m]\u001b[0m\u001b[0;34m:\u001b[0m\u001b[0;34m\u001b[0m\u001b[0;34m\u001b[0m\u001b[0m\n\u001b[1;32m     32\u001b[0m             \u001b[0mprint\u001b[0m\u001b[0;34m(\u001b[0m\u001b[0mj\u001b[0m\u001b[0;34m)\u001b[0m\u001b[0;34m\u001b[0m\u001b[0;34m\u001b[0m\u001b[0m\n\u001b[0;32m---> 33\u001b[0;31m             \u001b[0;32mif\u001b[0m \u001b[0msearchFor\u001b[0m \u001b[0;32min\u001b[0m \u001b[0mvalues\u001b[0m\u001b[0;34m[\u001b[0m\u001b[0mi\u001b[0m\u001b[0;34m]\u001b[0m\u001b[0;34m[\u001b[0m\u001b[0mj\u001b[0m\u001b[0;34m]\u001b[0m\u001b[0;34m:\u001b[0m\u001b[0;34m\u001b[0m\u001b[0;34m\u001b[0m\u001b[0m\n\u001b[0m\u001b[1;32m     34\u001b[0m \u001b[0;34m\u001b[0m\u001b[0m\n\u001b[1;32m     35\u001b[0m                 \u001b[0mprint\u001b[0m\u001b[0;34m(\u001b[0m\u001b[0mvalues\u001b[0m\u001b[0;34m[\u001b[0m\u001b[0mi\u001b[0m\u001b[0;34m]\u001b[0m\u001b[0;34m[\u001b[0m\u001b[0mj\u001b[0m\u001b[0;34m]\u001b[0m\u001b[0;34m)\u001b[0m\u001b[0;34m\u001b[0m\u001b[0;34m\u001b[0m\u001b[0m\n",
      "\u001b[0;31mTypeError\u001b[0m: argument of type 'NoneType' is not iterable"
     ]
    }
   ],
   "source": [
    "import requests\n",
    "import uuid\n",
    "from IPython.display import display_javascript, display_html, display\n",
    "import json\n",
    "\n",
    "class RenderJSON(object):\n",
    "    def __init__(self, json_data):\n",
    "        if isinstance(json_data, dict):\n",
    "            self.json_str = json.dumps(json_data)\n",
    "        else:\n",
    "            self.json_str = json_data\n",
    "        self.uuid = str(uuid.uuid4())\n",
    "\n",
    "    def _ipython_display_(self):\n",
    "        display_html('<div id=\"{}\" style=\"height: 600px; width:100%;\"></div>'.format(self.uuid), raw=True)\n",
    "        display_javascript(\"\"\"\n",
    "        require([\"https://rawgit.com/caldwell/renderjson/master/renderjson.js\"], function() {\n",
    "        document.getElementById('%s').appendChild(renderjson(%s))\n",
    "        });\n",
    "        \"\"\" % (self.uuid, self.json_str), raw=True)\n",
    "\n",
    "url = ('https://newsapi.org/v2/everything?'\n",
    "       'q=Apple&'\n",
    "       'apiKey=e81cda2325c34f2b89d520b4553c7330')\n",
    "\n",
    "url1 = ('https://newsapi.org/v2/everything?q=\"microsoft Apple\"&apikey=e81cda2325c34f2b89d520b4553c7330')\n",
    "\n",
    "\n",
    "def search(values, searchFor):\n",
    "    for i in range(len(values)):\n",
    "        for j in values[i]:\n",
    "            print(j)\n",
    "            if searchFor in values[i][j]:\n",
    "                \n",
    "                print(values[i][j])\n",
    "    return None\n",
    "response = requests.get(url1)\n",
    "#print(type(response))\n",
    "#RenderJSON()\n",
    "#print (response.json())\n",
    "articles = response.json()[\"articles\"]\n",
    "print( search(articles, ' '))\n",
    "#response.json()"
   ]
  }
 ],
 "metadata": {
  "kernelspec": {
   "display_name": "Python 3",
   "language": "python",
   "name": "python3"
  },
  "language_info": {
   "codemirror_mode": {
    "name": "ipython",
    "version": 3
   },
   "file_extension": ".py",
   "mimetype": "text/x-python",
   "name": "python",
   "nbconvert_exporter": "python",
   "pygments_lexer": "ipython3",
   "version": "3.7.3"
  }
 },
 "nbformat": 4,
 "nbformat_minor": 2
}
